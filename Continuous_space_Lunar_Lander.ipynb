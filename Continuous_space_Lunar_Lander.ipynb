{
  "nbformat": 4,
  "nbformat_minor": 0,
  "metadata": {
    "colab": {
      "name": "Continuous space Lunar Lander.ipynb",
      "provenance": [],
      "collapsed_sections": [],
      "include_colab_link": true
    },
    "kernelspec": {
      "name": "python3",
      "display_name": "Python 3"
    },
    "language_info": {
      "name": "python"
    }
  },
  "cells": [
    {
      "cell_type": "markdown",
      "metadata": {
        "id": "view-in-github",
        "colab_type": "text"
      },
      "source": [
        "<a href=\"https://colab.research.google.com/github/vaghyjuli/RL/blob/main/Continuous_space_Lunar_Lander.ipynb\" target=\"_parent\"><img src=\"https://colab.research.google.com/assets/colab-badge.svg\" alt=\"Open In Colab\"/></a>"
      ]
    },
    {
      "cell_type": "markdown",
      "source": [
        "https://arxiv.org/pdf/2011.11850.pdf"
      ],
      "metadata": {
        "id": "4blH99M_mm1m"
      }
    },
    {
      "cell_type": "code",
      "execution_count": null,
      "metadata": {
        "colab": {
          "base_uri": "https://localhost:8080/"
        },
        "id": "-b1GI_b8s9xd",
        "outputId": "2af15c3d-a01c-4f2b-c965-5e6ec7dc7271"
      },
      "outputs": [
        {
          "output_type": "stream",
          "name": "stdout",
          "text": [
            "Reading package lists...\n",
            "Building dependency tree...\n",
            "Reading state information...\n",
            "The following additional packages will be installed:\n",
            "  libxxf86dga1\n",
            "Suggested packages:\n",
            "  mesa-utils\n",
            "The following NEW packages will be installed:\n",
            "  libxxf86dga1 x11-utils xvfb\n",
            "0 upgraded, 3 newly installed, 0 to remove and 37 not upgraded.\n",
            "Need to get 993 kB of archives.\n",
            "After this operation, 2,982 kB of additional disk space will be used.\n",
            "Get:1 http://archive.ubuntu.com/ubuntu bionic/main amd64 libxxf86dga1 amd64 2:1.1.4-1 [13.7 kB]\n",
            "Get:2 http://archive.ubuntu.com/ubuntu bionic/main amd64 x11-utils amd64 7.7+3build1 [196 kB]\n",
            "Get:3 http://archive.ubuntu.com/ubuntu bionic-updates/universe amd64 xvfb amd64 2:1.19.6-1ubuntu4.10 [784 kB]\n",
            "Fetched 993 kB in 1s (891 kB/s)\n",
            "Selecting previously unselected package libxxf86dga1:amd64.\r\n",
            "(Reading database ... \r(Reading database ... 5%\r(Reading database ... 10%\r(Reading database ... 15%\r(Reading database ... 20%\r(Reading database ... 25%\r(Reading database ... 30%\r(Reading database ... 35%\r(Reading database ... 40%\r(Reading database ... 45%\r(Reading database ... 50%\r(Reading database ... 55%\r(Reading database ... 60%\r(Reading database ... 65%\r(Reading database ... 70%\r(Reading database ... 75%\r(Reading database ... 80%\r(Reading database ... 85%\r(Reading database ... 90%\r(Reading database ... 95%\r(Reading database ... 100%\r(Reading database ... 155229 files and directories currently installed.)\r\n",
            "Preparing to unpack .../libxxf86dga1_2%3a1.1.4-1_amd64.deb ...\r\n",
            "Unpacking libxxf86dga1:amd64 (2:1.1.4-1) ...\r\n",
            "Selecting previously unselected package x11-utils.\r\n",
            "Preparing to unpack .../x11-utils_7.7+3build1_amd64.deb ...\r\n",
            "Unpacking x11-utils (7.7+3build1) ...\r\n",
            "Selecting previously unselected package xvfb.\r\n",
            "Preparing to unpack .../xvfb_2%3a1.19.6-1ubuntu4.10_amd64.deb ...\r\n",
            "Unpacking xvfb (2:1.19.6-1ubuntu4.10) ...\r\n",
            "Setting up xvfb (2:1.19.6-1ubuntu4.10) ...\r\n",
            "Setting up libxxf86dga1:amd64 (2:1.1.4-1) ...\r\n",
            "Setting up x11-utils (7.7+3build1) ...\r\n",
            "Processing triggers for man-db (2.8.3-2ubuntu0.1) ...\r\n",
            "Processing triggers for libc-bin (2.27-3ubuntu1.3) ...\r\n",
            "/sbin/ldconfig.real: /usr/local/lib/python3.7/dist-packages/ideep4py/lib/libmkldnn.so.0 is not a symbolic link\r\n",
            "\r\n",
            "Requirement already satisfied: gym[box2d]==0.17.* in /usr/local/lib/python3.7/dist-packages (0.17.3)\n",
            "Collecting pyvirtualdisplay==0.2.*\n",
            "  Downloading PyVirtualDisplay-0.2.5-py2.py3-none-any.whl (13 kB)\n",
            "Requirement already satisfied: PyOpenGL==3.1.* in /usr/local/lib/python3.7/dist-packages (3.1.5)\n",
            "Collecting PyOpenGL-accelerate==3.1.*\n",
            "  Downloading PyOpenGL-accelerate-3.1.5.tar.gz (538 kB)\n",
            "Collecting EasyProcess\n",
            "  Downloading EasyProcess-1.1-py3-none-any.whl (8.7 kB)\n",
            "Requirement already satisfied: pyglet<=1.5.0,>=1.4.0 in /usr/local/lib/python3.7/dist-packages (from gym[box2d]==0.17.*) (1.5.0)\n",
            "Requirement already satisfied: scipy in /usr/local/lib/python3.7/dist-packages (from gym[box2d]==0.17.*) (1.4.1)\n",
            "Requirement already satisfied: numpy>=1.10.4 in /usr/local/lib/python3.7/dist-packages (from gym[box2d]==0.17.*) (1.19.5)\n",
            "Requirement already satisfied: cloudpickle<1.7.0,>=1.2.0 in /usr/local/lib/python3.7/dist-packages (from gym[box2d]==0.17.*) (1.3.0)\n",
            "Collecting box2d-py~=2.3.5\n",
            "  Downloading box2d_py-2.3.8-cp37-cp37m-manylinux1_x86_64.whl (448 kB)\n",
            "Requirement already satisfied: future in /usr/local/lib/python3.7/dist-packages (from pyglet<=1.5.0,>=1.4.0->gym[box2d]==0.17.*) (0.16.0)\n",
            "Building wheels for collected packages: PyOpenGL-accelerate\n",
            "  Building wheel for PyOpenGL-accelerate (setup.py): started\n",
            "  Building wheel for PyOpenGL-accelerate (setup.py): finished with status 'done'\n",
            "  Created wheel for PyOpenGL-accelerate: filename=PyOpenGL_accelerate-3.1.5-cp37-cp37m-linux_x86_64.whl size=1599524 sha256=9410f6a279d947cc3c2f9f7fbd3e99c1a6d06e112b3cd72b37f681741b5a0ebf\n",
            "  Stored in directory: /root/.cache/pip/wheels/1c/f5/6f/169afb3f2d476c5e807f8515b3c9bc9b819c3962316aa804eb\n",
            "Successfully built PyOpenGL-accelerate\n",
            "Installing collected packages: EasyProcess, box2d-py, pyvirtualdisplay, PyOpenGL-accelerate\n",
            "Successfully installed EasyProcess-1.1 PyOpenGL-accelerate-3.1.5 box2d-py-2.3.8 pyvirtualdisplay-0.2.5\n"
          ]
        }
      ],
      "source": [
        "%%bash\n",
        "\n",
        "# install required system dependencies\n",
        "apt-get install -y xvfb x11-utils\n",
        "\n",
        "# install required python dependencies (might need to install additional gym extras depending)\n",
        "pip install gym[box2d]==0.17.* pyvirtualdisplay==0.2.* PyOpenGL==3.1.* PyOpenGL-accelerate==3.1.*"
      ]
    },
    {
      "cell_type": "code",
      "source": [
        "import pyvirtualdisplay\n",
        "\n",
        "_display = pyvirtualdisplay.Display(visible=False,  # use False with Xvfb\n",
        "                                    size=(1400, 900))\n",
        "_ = _display.start()"
      ],
      "metadata": {
        "id": "rO5qIJ1LtEpP"
      },
      "execution_count": null,
      "outputs": []
    },
    {
      "cell_type": "code",
      "source": [
        "import gym\n",
        "import numpy as np\n",
        "import pandas as pd\n",
        "import random"
      ],
      "metadata": {
        "id": "5flGbVoptfWG"
      },
      "execution_count": null,
      "outputs": []
    },
    {
      "cell_type": "markdown",
      "source": [
        "## Action space\n",
        "Discrete(4) \\\\\n",
        "[0] - do nothing \\\\\n",
        "[1] - fire left orientation engine \\\\\n",
        "[2] - fire right orientation engine \\\\\n",
        "[3] - fire main engine\n",
        "\n",
        "## Observation space\n",
        "Box(-inf, inf, (8,), float32) \\\\\n",
        "Low = [-inf -inf -inf -inf -inf -inf -inf -inf] \\\\\n",
        "High = [inf inf inf inf inf inf inf inf]\n",
        "\n",
        "Each observation contains 8 values: \\\\\n",
        "(Continuous): X distance from target site \\\\\n",
        "(Continuous): Y distance from target site \\\\\n",
        "(Continuous): X velocity \\\\\n",
        "(Continuous): Y velocity \\\\\n",
        "(Continuous): Angle of ship \\\\\n",
        "(Continuous): Angular velocity of ship \\\\\n",
        "(Binary): Left leg is grounded \\\\\n",
        "(Binary): Right leg is grounded"
      ],
      "metadata": {
        "id": "lKlWbNRn6-rV"
      }
    },
    {
      "cell_type": "code",
      "source": [
        "class Agent():\n",
        "\n",
        "  def __init__(self, n_actions):\n",
        "    self.gamma = 0.8                                # discount\n",
        "    self.epsilon = 0.2                              # exploration\n",
        "\n",
        "    self.num_bins = 3                               # number of bins for discretizing continuous state variables\n",
        "    self.bins2D = []                                # num_bins bins for each of the 6 continuous variables\n",
        "    self.init_bins()\n",
        "\n",
        "    self.n_actions = n_actions                      # number of actions\n",
        "    self.dim_state = (self.num_bins ** 6) * (2 ** 2)          # 6 continuous, 2 binary\n",
        "    self.Q = np.zeros((self.dim_state, n_actions))       # initialize Q(s,a) table\n",
        "\n",
        "  def get_action(self, state):\n",
        "    if random.uniform(0, 1) < self.epsilon:\n",
        "      return np.random.choice(range(self.n_actions))\n",
        "    else:\n",
        "      return np.argmax(self.Q[self.get_state_index(state)])\n",
        "\n",
        "  def q_update(self, prev_state, action, reward, new_state, alpha):\n",
        "    prev_state_idx = self.get_state_index(prev_state)\n",
        "    new_state_idx = self.get_state_index(new_state)\n",
        "    self.Q[prev_state_idx][action] += alpha * (reward + self.gamma * np.max(self.Q[new_state_idx]) - self.Q[prev_state_idx][action])\n",
        "\n",
        "  def init_bins(self):\n",
        "    state_min = [-1.01975346, -0.44636688, -2.29403067, -2.22342443, -4.9213028, -8.83636475]\n",
        "    state_max = [1.0239284, 1.8099494, 2.47327113, 0.62224495, 4.42566919, 8.98535538]\n",
        "    half_mid_range = 20\n",
        "    for i in range(6):\n",
        "      mid_bound = (state_max[i] - state_min[i]) / half_mid_range\n",
        "      left_bounds = [-float(\"inf\"), -mid_bound, mid_bound]\n",
        "      right_bounds = [-mid_bound, mid_bound, float(\"inf\")]\n",
        "      self.bins2D.append(pd.IntervalIndex.from_arrays(left_bounds, right_bounds, closed=\"neither\"))\n",
        "    print(self.bins2D)\n",
        "\n",
        "  def get_state_representation(self, state):\n",
        "    representation = [self.bins2D[i].get_loc(state[i]) for i in range(6)]\n",
        "    representation.append(int(state[6]))\n",
        "    representation.append(int(state[7]))\n",
        "    return representation\n",
        "\n",
        "  def get_state_index(self, state):\n",
        "    bases = [self.num_bins]*6 + [2, 2]\n",
        "    n = 0\n",
        "    for i in range(len(state) - 2):\n",
        "      n = (n + self.bins2D[i].get_loc(state[i])) * bases[i+1]\n",
        "    return (n + int(state[-2]))*2 + int(state[-1])\n",
        "\n",
        "  def get_Qs(self, state):\n",
        "    return self.Q[self.get_state_index(state)]\n",
        "\n",
        "  def measure_learning(self):\n",
        "    return np.count_nonzero(self.Q) / (self.dim_state * 4)"
      ],
      "metadata": {
        "id": "q46-1IhK7gg1"
      },
      "execution_count": null,
      "outputs": []
    },
    {
      "cell_type": "code",
      "source": [
        "n_episodes = 1\n",
        "\n",
        "env = gym.make('LunarLander-v2')\n",
        "agent = Agent(env.action_space.n)\n",
        "\n",
        "cum_rewards = []\n",
        "for episode in range(n_episodes):\n",
        "    state = env.reset()\n",
        "    t = 0\n",
        "    cum_reward = 0\n",
        "    while True:\n",
        "      #env.render()\n",
        "      prev_state = state\n",
        "      prev_state_idx = agent.get_state_index(prev_state)\n",
        "      action = agent.get_action(state)\n",
        "      state, reward, done, info = env.step(action)\n",
        "      cum_reward += reward\n",
        "      #print(f\"Old Q({prev_state_idx},_) = {agent.get_Qs(prev_state)}\")\n",
        "      alpha = (n_episodes - episode) / (n_episodes/2)\n",
        "      agent.q_update(prev_state, action, reward, state, alpha)\n",
        "      state_idx = agent.get_state_index(state)\n",
        "      #print(f\"State {prev_state_idx} \\n+ Action {action} \\n-> State {state_idx}\\nReward = {reward}\")\n",
        "      #print(f\"New Q({prev_state_idx},_) = {agent.get_Qs(prev_state)}\\n\\n\")\n",
        "      if done:\n",
        "          print(f\"Episode {episode+1}. {t+1} timesteps, cum_reward = {cum_reward} \\n\")\n",
        "          break\n",
        "      t += 1\n",
        "    cum_rewards.append(cum_reward)\n",
        "\n",
        "print(agent.measure_learning())\n",
        "env.close()"
      ],
      "metadata": {
        "id": "LCacZZMuti0m",
        "colab": {
          "base_uri": "https://localhost:8080/"
        },
        "outputId": "c767302f-339c-4ada-bd97-b8996a5114d1"
      },
      "execution_count": null,
      "outputs": [
        {
          "output_type": "stream",
          "name": "stdout",
          "text": [
            "[IntervalIndex([(-inf, -0.102184093), (-0.102184093, 0.102184093), (0.102184093, inf)],\n",
            "              closed='neither',\n",
            "              dtype='interval[float64]'), IntervalIndex([(-inf, -0.112815814), (-0.112815814, 0.112815814), (0.112815814, inf)],\n",
            "              closed='neither',\n",
            "              dtype='interval[float64]'), IntervalIndex([(-inf, -0.23836509), (-0.23836509, 0.23836509), (0.23836509, inf)],\n",
            "              closed='neither',\n",
            "              dtype='interval[float64]'), IntervalIndex([(-inf, -0.14228346900000002), (-0.14228346900000002, 0.14228346900000002), (0.14228346900000002, inf)],\n",
            "              closed='neither',\n",
            "              dtype='interval[float64]'), IntervalIndex([(-inf, -0.4673485995), (-0.4673485995, 0.4673485995), (0.4673485995, inf)],\n",
            "              closed='neither',\n",
            "              dtype='interval[float64]'), IntervalIndex([(-inf, -0.8910860064999999), (-0.8910860064999999, 0.8910860064999999), (0.8910860064999999, inf)],\n",
            "              closed='neither',\n",
            "              dtype='interval[float64]')]\n",
            "Episode 1. 112 timesteps, cum_reward = -181.82298220834258 \n",
            "\n",
            "0.0016289437585733882\n"
          ]
        }
      ]
    },
    {
      "cell_type": "code",
      "source": [
        "import matplotlib.pyplot as plt\n",
        "\n",
        "kernel_size = 200\n",
        "kernel = np.ones(kernel_size) / kernel_size\n",
        "y = np.convolve(cum_rewards, kernel, mode=\"valid\")\n",
        "\n",
        "plt.plot(y, color=\"red\")\n",
        "\n",
        "plt.show()"
      ],
      "metadata": {
        "colab": {
          "base_uri": "https://localhost:8080/",
          "height": 267
        },
        "id": "eOPZhpyHHJDt",
        "outputId": "98c8a2ed-dd23-4783-e398-2b89635bf1b2"
      },
      "execution_count": null,
      "outputs": [
        {
          "output_type": "display_data",
          "data": {
            "image/png": "[encoded data removed]",
            "text/plain": [
              "<Figure size 432x288 with 1 Axes>"
            ]
          },
          "metadata": {
            "needs_background": "light"
          }
        }
      ]
    },
    {
      "cell_type": "code",
      "source": [
        ""
      ],
      "metadata": {
        "id": "w0QCMk5ylbXx"
      },
      "execution_count": null,
      "outputs": []
    }
  ]
}