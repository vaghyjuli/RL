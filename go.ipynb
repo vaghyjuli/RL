{
  "nbformat": 4,
  "nbformat_minor": 0,
  "metadata": {
    "colab": {
      "name": "go.ipynb",
      "provenance": [],
      "mount_file_id": "1NtXXSbwXhsBB0gd1d-JlkyCvOKwVD0Dq",
      "authorship_tag": "ABX9TyNBGjqk6NQYq1ZyTknSNq/Y",
      "include_colab_link": true
    },
    "kernelspec": {
      "name": "python3",
      "display_name": "Python 3"
    },
    "language_info": {
      "name": "python"
    }
  },
  "cells": [
    {
      "cell_type": "markdown",
      "metadata": {
        "id": "view-in-github",
        "colab_type": "text"
      },
      "source": [
        "<a href=\"https://colab.research.google.com/github/vaghyjuli/RL/blob/main/go.ipynb\" target=\"_parent\"><img src=\"https://colab.research.google.com/assets/colab-badge.svg\" alt=\"Open In Colab\"/></a>"
      ]
    },
    {
      "cell_type": "code",
      "execution_count": null,
      "metadata": {
        "colab": {
          "base_uri": "https://localhost:8080/"
        },
        "id": "0o1XKABp0yJc",
        "outputId": "a14e5818-91ec-433a-9147-c8f27044720f"
      },
      "outputs": [
        {
          "output_type": "stream",
          "name": "stdout",
          "text": [
            "Drive already mounted at /content/drive; to attempt to forcibly remount, call drive.mount(\"/content/drive\", force_remount=True).\n",
            "/content/drive/My Drive/RLP\n",
            "Requirement already satisfied: gym in /usr/local/lib/python3.7/dist-packages (0.17.3)\n",
            "Requirement already satisfied: pyglet<=1.5.0,>=1.4.0 in /usr/local/lib/python3.7/dist-packages (from gym) (1.5.0)\n",
            "Requirement already satisfied: numpy>=1.10.4 in /usr/local/lib/python3.7/dist-packages (from gym) (1.19.5)\n",
            "Requirement already satisfied: cloudpickle<1.7.0,>=1.2.0 in /usr/local/lib/python3.7/dist-packages (from gym) (1.3.0)\n",
            "Requirement already satisfied: scipy in /usr/local/lib/python3.7/dist-packages (from gym) (1.4.1)\n",
            "Requirement already satisfied: future in /usr/local/lib/python3.7/dist-packages (from pyglet<=1.5.0,>=1.4.0->gym) (0.16.0)\n",
            "fatal: destination path 'GymGo' already exists and is not an empty directory.\n",
            "fatal: not a git repository (or any parent up to mount point /content)\n",
            "Stopping at filesystem boundary (GIT_DISCOVERY_ACROSS_FILESYSTEM not set).\n",
            "/content/drive/My Drive/RLP/GymGo\n",
            "Obtaining file:///content/drive/My%20Drive/RLP/GymGo\n",
            "Requirement already satisfied: gym in /usr/local/lib/python3.7/dist-packages (from gym-go==0.0.1) (0.17.3)\n",
            "Requirement already satisfied: cloudpickle<1.7.0,>=1.2.0 in /usr/local/lib/python3.7/dist-packages (from gym->gym-go==0.0.1) (1.3.0)\n",
            "Requirement already satisfied: pyglet<=1.5.0,>=1.4.0 in /usr/local/lib/python3.7/dist-packages (from gym->gym-go==0.0.1) (1.5.0)\n",
            "Requirement already satisfied: numpy>=1.10.4 in /usr/local/lib/python3.7/dist-packages (from gym->gym-go==0.0.1) (1.19.5)\n",
            "Requirement already satisfied: scipy in /usr/local/lib/python3.7/dist-packages (from gym->gym-go==0.0.1) (1.4.1)\n",
            "Requirement already satisfied: future in /usr/local/lib/python3.7/dist-packages (from pyglet<=1.5.0,>=1.4.0->gym->gym-go==0.0.1) (0.16.0)\n",
            "Installing collected packages: gym-go\n",
            "  Running setup.py develop for gym-go\n",
            "Successfully installed gym-go-0.0.1\n"
          ]
        }
      ],
      "source": [
        "from google.colab import drive\n",
        "drive.mount('/content/drive')\n",
        "%cd drive/My Drive/RLP\n",
        "! pip install gym\n",
        "! git clone https://github.com/aigagror/GymGo\n",
        "! git pull\n",
        "%cd GymGo\n",
        "! pip install -e ."
      ]
    },
    {
      "cell_type": "markdown",
      "source": [
        "N = board size\n",
        "\n",
        "# **Action space**\n",
        "env.action_space = Discrete(N * N + 1) \\\\\n",
        "board moves = tuple (0 to N-1, 0 to N-1) \\\\\n",
        "pass = N * N - 1 \\\\\n",
        "(game ends when both players pass)\n",
        "\n",
        "# **State space**\n",
        "env.observation_space = Box(0.0, 6.0, (6, N, N), float32)\n",
        "\n",
        "6 x N x N numpy array -> all values in the array are either 0 or 1\n",
        "\n",
        "[0] black pieces \\\\\n",
        "[1] white pieces \\\\\n",
        "[2] indicator layer for whose turn it is \\\\\n",
        "[3] invalid moves (including ko-protection) for the next action \\\\\n",
        "[4] indicator layer for whether the previous move was a pass \\\\\n",
        "[5] indicator layer for whether the game is over"
      ],
      "metadata": {
        "id": "RFdyjB10pGUx"
      }
    },
    {
      "cell_type": "code",
      "source": [
        "import gym\n",
        "import numpy as np"
      ],
      "metadata": {
        "id": "cTTD0Oyj3as4"
      },
      "execution_count": null,
      "outputs": []
    },
    {
      "cell_type": "code",
      "source": [
        "class Player():\n",
        "  def __init__(self, N):\n",
        "    self.N = N\n",
        "    self.policy = np.ones((N, N)) / (N*N)\n",
        "\n",
        "  def get_action(self, state):\n",
        "    allowed_actions = np.absolute(state[3] - 1) # 1=valid, 0=invalid\n",
        "    if sum(sum(allowed_actions)) == 0:          # pass if there are no allowed actions\n",
        "      return self.N * self.N\n",
        "    allowed_action_prob = np.multiply(self.policy, allowed_actions)\n",
        "    allowed_action_prob /= sum(sum(allowed_action_prob))\n",
        "    action = self.random_choice_2D(allowed_action_prob)\n",
        "    return action\n",
        "\n",
        "  def random_choice_2D(self, prob_2D):\n",
        "    \"\"\"\n",
        "    np.random.choice only works for 1D arrays\n",
        "    return tuple (row, col)\n",
        "    \"\"\"\n",
        "    row_prob = np.sum(prob_2D, axis = 1)\n",
        "    row = np.random.choice(range(self.N), p = row_prob)\n",
        "    col_prob = prob_2D[row] / sum(prob_2D[row])\n",
        "    col = np.random.choice(range(self.N), p = col_prob)\n",
        "    return (row, col)"
      ],
      "metadata": {
        "id": "pKCm-n_s_PRs"
      },
      "execution_count": null,
      "outputs": []
    },
    {
      "cell_type": "code",
      "source": [
        "N = 7\n",
        "env = gym.make('gym_go:go-v0', size=N, komi=0, reward_method='heuristic')\n",
        "player = Player(N)"
      ],
      "metadata": {
        "id": "-0hoY9-K_5hT"
      },
      "execution_count": null,
      "outputs": []
    },
    {
      "cell_type": "code",
      "source": [
        "state = env.reset()\n",
        "for i in range(1):\n",
        "  action = player.get_action(state)\n",
        "  print(f\"Step {i}\\n{action}\")\n",
        "  state, reward, done, info = env.step(action)\n",
        "  print(env.render(\"terminal\"))\n",
        "  if done:\n",
        "    print(\"Game over\")\n",
        "    break\n",
        "env.close()"
      ],
      "metadata": {
        "colab": {
          "base_uri": "https://localhost:8080/"
        },
        "id": "ts3RGczrq0A5",
        "outputId": "b9f217b1-ec6a-4c5c-88dc-27a3b5f3ec4d"
      },
      "execution_count": null,
      "outputs": [
        {
          "output_type": "stream",
          "name": "stdout",
          "text": [
            "Step 0\n",
            "(6, 1)\n",
            "    0   1   2   3   4   5   6\n",
            "  -----------------------------\n",
            "0 | . | . | . | . | . | . | . |\n",
            "  -----------------------------\n",
            "1 | . | . | . | . | . | . | . |\n",
            "  -----------------------------\n",
            "2 | . | . | . | . | . | . | . |\n",
            "  -----------------------------\n",
            "3 | . | . | . | . | . | . | . |\n",
            "  -----------------------------\n",
            "4 | . | . | . | . | . | . | . |\n",
            "  -----------------------------\n",
            "5 | . | . | . | . | . | . | . |\n",
            "  -----------------------------\n",
            "6 | . | B | . | . | . | . | . |\n",
            "  -----------------------------\n",
            "\tTurn: W, Last Turn Passed: False, Game Over: 0\n",
            "\tBlack Area: 49.0, White Area: 0.0\n",
            "\n",
            "None\n"
          ]
        }
      ]
    },
    {
      "cell_type": "code",
      "source": [
        ""
      ],
      "metadata": {
        "id": "ZE5XvcrRrmon"
      },
      "execution_count": null,
      "outputs": []
    }
  ]
}