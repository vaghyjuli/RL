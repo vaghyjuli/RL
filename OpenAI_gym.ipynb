{
  "nbformat": 4,
  "nbformat_minor": 0,
  "metadata": {
    "colab": {
      "name": "OpenAI_gym.ipynb",
      "provenance": [],
      "collapsed_sections": [],
      "authorship_tag": "ABX9TyM38rq/bRIs5m+GRVNYGOji",
      "include_colab_link": true
    },
    "kernelspec": {
      "name": "python3",
      "display_name": "Python 3"
    },
    "language_info": {
      "name": "python"
    }
  },
  "cells": [
    {
      "cell_type": "markdown",
      "metadata": {
        "id": "view-in-github",
        "colab_type": "text"
      },
      "source": [
        "<a href=\"https://colab.research.google.com/github/vaghyjuli/RL/blob/main/OpenAI_gym.ipynb\" target=\"_parent\"><img src=\"https://colab.research.google.com/assets/colab-badge.svg\" alt=\"Open In Colab\"/></a>"
      ]
    },
    {
      "cell_type": "code",
      "execution_count": null,
      "metadata": {
        "colab": {
          "base_uri": "https://localhost:8080/"
        },
        "id": "-b1GI_b8s9xd",
        "outputId": "4d44f34a-3443-413d-979f-2081bab5351c"
      },
      "outputs": [
        {
          "output_type": "stream",
          "name": "stdout",
          "text": [
            "Reading package lists...\n",
            "Building dependency tree...\n",
            "Reading state information...\n",
            "The following additional packages will be installed:\n",
            "  libxxf86dga1\n",
            "Suggested packages:\n",
            "  mesa-utils\n",
            "The following NEW packages will be installed:\n",
            "  libxxf86dga1 x11-utils xvfb\n",
            "0 upgraded, 3 newly installed, 0 to remove and 37 not upgraded.\n",
            "Need to get 993 kB of archives.\n",
            "After this operation, 2,982 kB of additional disk space will be used.\n",
            "Get:1 http://archive.ubuntu.com/ubuntu bionic/main amd64 libxxf86dga1 amd64 2:1.1.4-1 [13.7 kB]\n",
            "Get:2 http://archive.ubuntu.com/ubuntu bionic/main amd64 x11-utils amd64 7.7+3build1 [196 kB]\n",
            "Get:3 http://archive.ubuntu.com/ubuntu bionic-updates/universe amd64 xvfb amd64 2:1.19.6-1ubuntu4.10 [784 kB]\n",
            "Fetched 993 kB in 1s (836 kB/s)\n",
            "Selecting previously unselected package libxxf86dga1:amd64.\r\n",
            "(Reading database ... \r(Reading database ... 5%\r(Reading database ... 10%\r(Reading database ... 15%\r(Reading database ... 20%\r(Reading database ... 25%\r(Reading database ... 30%\r(Reading database ... 35%\r(Reading database ... 40%\r(Reading database ... 45%\r(Reading database ... 50%\r(Reading database ... 55%\r(Reading database ... 60%\r(Reading database ... 65%\r(Reading database ... 70%\r(Reading database ... 75%\r(Reading database ... 80%\r(Reading database ... 85%\r(Reading database ... 90%\r(Reading database ... 95%\r(Reading database ... 100%\r(Reading database ... 155229 files and directories currently installed.)\r\n",
            "Preparing to unpack .../libxxf86dga1_2%3a1.1.4-1_amd64.deb ...\r\n",
            "Unpacking libxxf86dga1:amd64 (2:1.1.4-1) ...\r\n",
            "Selecting previously unselected package x11-utils.\r\n",
            "Preparing to unpack .../x11-utils_7.7+3build1_amd64.deb ...\r\n",
            "Unpacking x11-utils (7.7+3build1) ...\r\n",
            "Selecting previously unselected package xvfb.\r\n",
            "Preparing to unpack .../xvfb_2%3a1.19.6-1ubuntu4.10_amd64.deb ...\r\n",
            "Unpacking xvfb (2:1.19.6-1ubuntu4.10) ...\r\n",
            "Setting up xvfb (2:1.19.6-1ubuntu4.10) ...\r\n",
            "Setting up libxxf86dga1:amd64 (2:1.1.4-1) ...\r\n",
            "Setting up x11-utils (7.7+3build1) ...\r\n",
            "Processing triggers for man-db (2.8.3-2ubuntu0.1) ...\r\n",
            "Processing triggers for libc-bin (2.27-3ubuntu1.3) ...\r\n",
            "/sbin/ldconfig.real: /usr/local/lib/python3.7/dist-packages/ideep4py/lib/libmkldnn.so.0 is not a symbolic link\r\n",
            "\r\n",
            "Requirement already satisfied: gym[box2d]==0.17.* in /usr/local/lib/python3.7/dist-packages (0.17.3)\n",
            "Collecting pyvirtualdisplay==0.2.*\n",
            "  Downloading PyVirtualDisplay-0.2.5-py2.py3-none-any.whl (13 kB)\n",
            "Requirement already satisfied: PyOpenGL==3.1.* in /usr/local/lib/python3.7/dist-packages (3.1.5)\n",
            "Collecting PyOpenGL-accelerate==3.1.*\n",
            "  Downloading PyOpenGL-accelerate-3.1.5.tar.gz (538 kB)\n",
            "Collecting EasyProcess\n",
            "  Downloading EasyProcess-1.1-py3-none-any.whl (8.7 kB)\n",
            "Requirement already satisfied: scipy in /usr/local/lib/python3.7/dist-packages (from gym[box2d]==0.17.*) (1.4.1)\n",
            "Requirement already satisfied: cloudpickle<1.7.0,>=1.2.0 in /usr/local/lib/python3.7/dist-packages (from gym[box2d]==0.17.*) (1.3.0)\n",
            "Requirement already satisfied: numpy>=1.10.4 in /usr/local/lib/python3.7/dist-packages (from gym[box2d]==0.17.*) (1.19.5)\n",
            "Requirement already satisfied: pyglet<=1.5.0,>=1.4.0 in /usr/local/lib/python3.7/dist-packages (from gym[box2d]==0.17.*) (1.5.0)\n",
            "Collecting box2d-py~=2.3.5\n",
            "  Downloading box2d_py-2.3.8-cp37-cp37m-manylinux1_x86_64.whl (448 kB)\n",
            "Requirement already satisfied: future in /usr/local/lib/python3.7/dist-packages (from pyglet<=1.5.0,>=1.4.0->gym[box2d]==0.17.*) (0.16.0)\n",
            "Building wheels for collected packages: PyOpenGL-accelerate\n",
            "  Building wheel for PyOpenGL-accelerate (setup.py): started\n",
            "  Building wheel for PyOpenGL-accelerate (setup.py): finished with status 'done'\n",
            "  Created wheel for PyOpenGL-accelerate: filename=PyOpenGL_accelerate-3.1.5-cp37-cp37m-linux_x86_64.whl size=1599530 sha256=dc785637682a532bac83311cc18d22775b13338722086afa1774d4185fe40c79\n",
            "  Stored in directory: /root/.cache/pip/wheels/1c/f5/6f/169afb3f2d476c5e807f8515b3c9bc9b819c3962316aa804eb\n",
            "Successfully built PyOpenGL-accelerate\n",
            "Installing collected packages: EasyProcess, box2d-py, pyvirtualdisplay, PyOpenGL-accelerate\n",
            "Successfully installed EasyProcess-1.1 PyOpenGL-accelerate-3.1.5 box2d-py-2.3.8 pyvirtualdisplay-0.2.5\n"
          ]
        }
      ],
      "source": [
        "%%bash\n",
        "\n",
        "# install required system dependencies\n",
        "apt-get install -y xvfb x11-utils\n",
        "\n",
        "# install required python dependencies (might need to install additional gym extras depending)\n",
        "pip install gym[box2d]==0.17.* pyvirtualdisplay==0.2.* PyOpenGL==3.1.* PyOpenGL-accelerate==3.1.*"
      ]
    },
    {
      "cell_type": "code",
      "source": [
        "import pyvirtualdisplay\n",
        "\n",
        "_display = pyvirtualdisplay.Display(visible=False,  # use False with Xvfb\n",
        "                                    size=(1400, 900))\n",
        "_ = _display.start()"
      ],
      "metadata": {
        "id": "rO5qIJ1LtEpP"
      },
      "execution_count": null,
      "outputs": []
    },
    {
      "cell_type": "code",
      "source": [
        "import gym\n",
        "import numpy as np"
      ],
      "metadata": {
        "id": "5flGbVoptfWG"
      },
      "execution_count": null,
      "outputs": []
    },
    {
      "cell_type": "markdown",
      "source": [
        "## Action space\n",
        "Discrete(2)\n",
        "\n",
        "## Observation space\n",
        "Box(-3.4028234663852886e+38, 3.4028234663852886e+38, (4,), float32) \\\\\n",
        "Low = [-4.8000002e+00 -3.4028235e+38 -4.1887903e-01 -3.4028235e+38] \\\\\n",
        "High = [4.8000002e+00 3.4028235e+38 4.1887903e-01 3.4028235e+38]"
      ],
      "metadata": {
        "id": "lKlWbNRn6-rV"
      }
    },
    {
      "cell_type": "code",
      "source": [
        "class Agent():\n",
        "\n",
        "  def __init__(self, n_actions):\n",
        "    self.n_actions = n_actions # number of actions\n",
        "    self.policy = np.ones(n_actions) / n_actions\n",
        "\n",
        "  def get_action(self):\n",
        "    return np.random.choice(range(self.n_actions), p = self.policy)"
      ],
      "metadata": {
        "id": "q46-1IhK7gg1"
      },
      "execution_count": null,
      "outputs": []
    },
    {
      "cell_type": "code",
      "source": [
        "n_episodes = 3\n",
        "\n",
        "env = gym.make('CartPole-v1')\n",
        "agent = Agent(env.action_space.n)\n",
        "\n",
        "for episode in range(n_episodes):\n",
        "    state = env.reset()\n",
        "    for t in range(100):\n",
        "        env.render()\n",
        "        action = agent.get_action()\n",
        "        state, reward, done, info = env.step(action)\n",
        "        print(f\"Action {action} -> state {state}\")\n",
        "        if done:\n",
        "            print(f\"Episode {episode+1} finished after {t+1} timesteps\\n\")\n",
        "            break\n",
        "    \n",
        "env.close()"
      ],
      "metadata": {
        "colab": {
          "base_uri": "https://localhost:8080/"
        },
        "id": "cVPFYdMh6KV7",
        "outputId": "d21463fb-c845-4a42-abd5-81c36e6ce6ce"
      },
      "execution_count": null,
      "outputs": [
        {
          "output_type": "stream",
          "name": "stdout",
          "text": [
            "Action 0 -> state [-0.0242103  -0.16811528  0.03319446  0.2732667 ]\n",
            "Action 1 -> state [-0.02757261  0.02651769  0.03865979 -0.00876455]\n",
            "Action 0 -> state [-0.02704225 -0.16913675  0.0384845   0.29586098]\n",
            "Action 0 -> state [-0.03042499 -0.36478561  0.04440172  0.60042861]\n",
            "Action 1 -> state [-0.0377207  -0.17031203  0.05641029  0.32205557]\n",
            "Action 1 -> state [-0.04112694  0.02396315  0.0628514   0.04768216]\n",
            "Action 1 -> state [-0.04064768  0.21813018  0.06380505 -0.22452716]\n",
            "Action 0 -> state [-0.03628508  0.02215709  0.05931451  0.08758028]\n",
            "Action 0 -> state [-0.03584193 -0.17376271  0.06106611  0.39837139]\n",
            "Action 1 -> state [-0.03931719  0.02044217  0.06903354  0.12554935]\n",
            "Action 0 -> state [-0.03890834 -0.17559737  0.07154453  0.43918799]\n",
            "Action 0 -> state [-0.04242029 -0.37165512  0.08032829  0.75353843]\n",
            "Action 1 -> state [-0.04985339 -0.17772716  0.09539905  0.48717561]\n",
            "Action 0 -> state [-0.05340794 -0.37405659  0.10514257  0.80833548]\n",
            "Action 0 -> state [-0.06088907 -0.57045017  0.12130928  1.13215399]\n",
            "Action 1 -> state [-0.07229807 -0.37710679  0.14395236  0.87984776]\n",
            "Action 0 -> state [-0.07984021 -0.57386021  0.16154931  1.21410125]\n",
            "Action 0 -> state [-0.09131741 -0.77065505  0.18583134  1.55273907]\n",
            "Action 0 -> state [-0.10673051 -0.96745498  0.21688612  1.89717701]\n",
            "Episode 1 finished after 19 timesteps\n",
            "\n",
            "Action 0 -> state [-0.03941856 -0.17183168  0.03974279  0.32574722]\n",
            "Action 0 -> state [-0.04285519 -0.36749629  0.04625773  0.63069368]\n",
            "Action 1 -> state [-0.05020512 -0.17304927  0.05887161  0.35293008]\n",
            "Action 1 -> state [-0.0536661   0.02118827  0.06593021  0.07937678]\n",
            "Action 1 -> state [-0.05324234  0.21530618  0.06751774 -0.19179803]\n",
            "Action 0 -> state [-0.04893621  0.01928657  0.06368178  0.12139659]\n",
            "Action 1 -> state [-0.04855048  0.21344108  0.06610972 -0.15053505]\n",
            "Action 0 -> state [-0.04428166  0.01743783  0.06309901  0.16224969]\n",
            "Action 1 -> state [-0.0439329   0.21160238  0.06634401 -0.10987873]\n",
            "Action 0 -> state [-0.03970085  0.01559556  0.06414643  0.20297552]\n",
            "Action 1 -> state [-0.03938894  0.20974428  0.06820594 -0.06880249]\n",
            "Action 0 -> state [-0.03519406  0.01371413  0.06682989  0.24459605]\n",
            "Action 1 -> state [-0.03491978  0.20782105  0.07172182 -0.02628101]\n",
            "Action 1 -> state [-0.03076335  0.40184507  0.0711962  -0.29550068]\n",
            "Action 1 -> state [-0.02272645  0.59588363  0.06528618 -0.56490715]\n",
            "Action 0 -> state [-0.01080878  0.39990938  0.05398804 -0.25239152]\n",
            "Action 0 -> state [-0.00281059  0.20405975  0.04894021  0.05681967]\n",
            "Action 0 -> state [0.0012706  0.00827148 0.0500766  0.36453311]\n",
            "Action 1 -> state [0.00143603 0.20264731 0.05736726 0.08805123]\n",
            "Action 1 -> state [ 0.00548898  0.39690204  0.05912829 -0.18599481]\n",
            "Action 1 -> state [ 0.01342702  0.59113035  0.05540839 -0.45945453]\n",
            "Action 1 -> state [ 0.02524963  0.78542709  0.0462193  -0.73417065]\n",
            "Action 1 -> state [ 0.04095817  0.97988106  0.03153589 -1.01195647]\n",
            "Action 1 -> state [ 0.06055579  1.17456838  0.01129676 -1.29457223]\n",
            "Action 1 -> state [ 0.08404716  1.36954498 -0.01459469 -1.58369729]\n",
            "Action 0 -> state [ 0.11143806  1.17459964 -0.04626863 -1.2956011 ]\n",
            "Action 1 -> state [ 0.13493005  1.37027783 -0.07218065 -1.60240239]\n",
            "Action 0 -> state [ 0.16233561  1.1760807  -0.1042287  -1.3330679 ]\n",
            "Action 1 -> state [ 0.18585722  1.37235082 -0.13089006 -1.65646315]\n",
            "Action 1 -> state [ 0.21330424  1.56873439 -0.16401932 -1.98689064]\n",
            "Action 1 -> state [ 0.24467892  1.76515458 -0.20375713 -2.32557244]\n",
            "Action 0 -> state [ 0.27998201  1.57238446 -0.25026858 -2.10188989]\n",
            "Episode 2 finished after 32 timesteps\n",
            "\n",
            "Action 0 -> state [ 0.02496337 -0.17068212 -0.01125963  0.31149453]\n",
            "Action 1 -> state [ 0.02154973  0.02459842 -0.00502974  0.01528203]\n",
            "Action 1 -> state [ 0.02204169  0.21979214 -0.0047241  -0.27898358]\n",
            "Action 0 -> state [ 0.02643754  0.0247379  -0.01030377  0.01220563]\n",
            "Action 1 -> state [ 0.0269323   0.22000609 -0.01005965 -0.28371036]\n",
            "Action 0 -> state [ 0.03133242  0.02502905 -0.01573386  0.00578291]\n",
            "Action 0 -> state [ 0.031833   -0.16986376 -0.0156182   0.29346038]\n",
            "Action 1 -> state [ 0.02843572  0.02547734 -0.009749   -0.00410711]\n",
            "Action 1 -> state [ 0.02894527  0.22073774 -0.00983114 -0.29984995]\n",
            "Action 1 -> state [ 0.03336002  0.41599844 -0.01582814 -0.59561714]\n",
            "Action 1 -> state [ 0.04167999  0.61133829 -0.02774048 -0.89324349]\n",
            "Action 1 -> state [ 0.05390676  0.80682528 -0.04560535 -1.19451582]\n",
            "Action 0 -> state [ 0.07004327  0.61232258 -0.06949567 -0.91646845]\n",
            "Action 1 -> state [ 0.08228972  0.80831195 -0.08782503 -1.23015815]\n",
            "Action 0 -> state [ 0.09845596  0.61442272 -0.1124282  -0.9662326 ]\n",
            "Action 0 -> state [ 0.11074441  0.42097558 -0.13175285 -0.71087815]\n",
            "Action 0 -> state [ 0.11916392  0.22790042 -0.14597041 -0.4623988 ]\n",
            "Action 1 -> state [ 0.12372193  0.42475111 -0.15521839 -0.79729772]\n",
            "Action 1 -> state [ 0.13221695  0.62162338 -0.17116434 -1.13450704]\n",
            "Action 0 -> state [ 0.14464942  0.42910332 -0.19385448 -0.90002381]\n",
            "Action 0 -> state [ 0.15323149  0.23706163 -0.21185496 -0.67399391]\n",
            "Episode 3 finished after 21 timesteps\n",
            "\n"
          ]
        }
      ]
    },
    {
      "cell_type": "code",
      "source": [
        ""
      ],
      "metadata": {
        "id": "LCacZZMuti0m"
      },
      "execution_count": null,
      "outputs": []
    }
  ]
}