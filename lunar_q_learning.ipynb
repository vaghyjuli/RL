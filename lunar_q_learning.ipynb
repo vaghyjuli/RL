{
  "nbformat": 4,
  "nbformat_minor": 0,
  "metadata": {
    "colab": {
      "name": "lunar-q-learning.ipynb",
      "provenance": [],
      "collapsed_sections": [],
      "authorship_tag": "ABX9TyPTMLmXs7ott67iNSFMbwia",
      "include_colab_link": true
    },
    "kernelspec": {
      "name": "python3",
      "display_name": "Python 3"
    },
    "language_info": {
      "name": "python"
    }
  },
  "cells": [
    {
      "cell_type": "markdown",
      "metadata": {
        "id": "view-in-github",
        "colab_type": "text"
      },
      "source": [
        "<a href=\"https://colab.research.google.com/github/vaghyjuli/RL/blob/main/lunar_q_learning.ipynb\" target=\"_parent\"><img src=\"https://colab.research.google.com/assets/colab-badge.svg\" alt=\"Open In Colab\"/></a>"
      ]
    },
    {
      "cell_type": "markdown",
      "source": [
        "https://arxiv.org/pdf/2011.11850.pdf"
      ],
      "metadata": {
        "id": "4blH99M_mm1m"
      }
    },
    {
      "cell_type": "code",
      "execution_count": null,
      "metadata": {
        "colab": {
          "base_uri": "https://localhost:8080/"
        },
        "id": "-b1GI_b8s9xd",
        "outputId": "871e0e26-2d3b-4046-9228-20c763836ca4"
      },
      "outputs": [
        {
          "output_type": "stream",
          "name": "stdout",
          "text": [
            "Reading package lists...\n",
            "Building dependency tree...\n",
            "Reading state information...\n",
            "x11-utils is already the newest version (7.7+3build1).\n",
            "xvfb is already the newest version (2:1.19.6-1ubuntu4.10).\n",
            "0 upgraded, 0 newly installed, 0 to remove and 37 not upgraded.\n",
            "Requirement already satisfied: gym[box2d]==0.17.* in /usr/local/lib/python3.7/dist-packages (0.17.3)\n",
            "Requirement already satisfied: pyvirtualdisplay==0.2.* in /usr/local/lib/python3.7/dist-packages (0.2.5)\n",
            "Requirement already satisfied: PyOpenGL==3.1.* in /usr/local/lib/python3.7/dist-packages (3.1.5)\n",
            "Requirement already satisfied: PyOpenGL-accelerate==3.1.* in /usr/local/lib/python3.7/dist-packages (3.1.5)\n",
            "Requirement already satisfied: EasyProcess in /usr/local/lib/python3.7/dist-packages (from pyvirtualdisplay==0.2.*) (1.1)\n",
            "Requirement already satisfied: cloudpickle<1.7.0,>=1.2.0 in /usr/local/lib/python3.7/dist-packages (from gym[box2d]==0.17.*) (1.3.0)\n",
            "Requirement already satisfied: scipy in /usr/local/lib/python3.7/dist-packages (from gym[box2d]==0.17.*) (1.4.1)\n",
            "Requirement already satisfied: pyglet<=1.5.0,>=1.4.0 in /usr/local/lib/python3.7/dist-packages (from gym[box2d]==0.17.*) (1.5.0)\n",
            "Requirement already satisfied: numpy>=1.10.4 in /usr/local/lib/python3.7/dist-packages (from gym[box2d]==0.17.*) (1.19.5)\n",
            "Requirement already satisfied: box2d-py~=2.3.5 in /usr/local/lib/python3.7/dist-packages (from gym[box2d]==0.17.*) (2.3.8)\n",
            "Requirement already satisfied: future in /usr/local/lib/python3.7/dist-packages (from pyglet<=1.5.0,>=1.4.0->gym[box2d]==0.17.*) (0.16.0)\n"
          ]
        }
      ],
      "source": [
        "%%bash\n",
        "\n",
        "# install required system dependencies\n",
        "apt-get install -y xvfb x11-utils\n",
        "\n",
        "# install required python dependencies (might need to install additional gym extras depending)\n",
        "pip install gym[box2d]==0.17.* pyvirtualdisplay==0.2.* PyOpenGL==3.1.* PyOpenGL-accelerate==3.1.*"
      ]
    },
    {
      "cell_type": "code",
      "source": [
        "import pyvirtualdisplay\n",
        "\n",
        "_display = pyvirtualdisplay.Display(visible=False,  # use False with Xvfb\n",
        "                                    size=(1400, 900))\n",
        "_ = _display.start()"
      ],
      "metadata": {
        "id": "rO5qIJ1LtEpP"
      },
      "execution_count": null,
      "outputs": []
    },
    {
      "cell_type": "code",
      "source": [
        "import gym\n",
        "import numpy as np\n",
        "import pandas as pd\n",
        "import random"
      ],
      "metadata": {
        "id": "5flGbVoptfWG"
      },
      "execution_count": null,
      "outputs": []
    },
    {
      "cell_type": "markdown",
      "source": [
        "## Action space\n",
        "Discrete(4) \\\\\n",
        "[0] - do nothing \\\\\n",
        "[1] - fire left orientation engine \\\\\n",
        "[2] - fire right orientation engine \\\\\n",
        "[3] - fire main engine\n",
        "\n",
        "## Observation space\n",
        "Box(-inf, inf, (8,), float32) \\\\\n",
        "Low = [-inf -inf -inf -inf -inf -inf -inf -inf] \\\\\n",
        "High = [inf inf inf inf inf inf inf inf]\n",
        "\n",
        "Each observation contains 8 values: \\\\\n",
        "(Continuous): X distance from target site \\\\\n",
        "(Continuous): Y distance from target site \\\\\n",
        "(Continuous): X velocity \\\\\n",
        "(Continuous): Y velocity \\\\\n",
        "(Continuous): Angle of ship \\\\\n",
        "(Continuous): Angular velocity of ship \\\\\n",
        "(Binary): Left leg is grounded \\\\\n",
        "(Binary): Right leg is grounded"
      ],
      "metadata": {
        "id": "lKlWbNRn6-rV"
      }
    },
    {
      "cell_type": "code",
      "source": [
        "class Agent():\n",
        "\n",
        "  def __init__(self, n_actions):\n",
        "    self.gamma = 0.8                                # discount\n",
        "    self.epsilon = 0.3                              # exploration\n",
        "\n",
        "    self.num_bins = 10                              # number of bins for discretizing continuous state variables\n",
        "    self.bins2D = []                                # num_bins bins for each of the 6 continuous variables\n",
        "    self.init_bins()\n",
        "\n",
        "    self.n_actions = n_actions                      # number of actions\n",
        "    self.dim_state = (self.num_bins ** 6) * (2 ** 2)          # 6 continuous, 2 binary\n",
        "    self.Q = np.zeros((self.dim_state, n_actions))       # initialize Q(s,a) table\n",
        "\n",
        "  def get_action(self, state):\n",
        "    if random.uniform(0, 1) < self.epsilon:\n",
        "      return np.random.choice(range(self.n_actions))\n",
        "    else:\n",
        "      return np.argmax(self.Q[self.get_state_index(state)])\n",
        "\n",
        "  def q_update(self, prev_state, action, reward, new_state, alpha):\n",
        "    prev_state_idx = self.get_state_index(prev_state)\n",
        "    new_state_idx = self.get_state_index(new_state)\n",
        "    self.Q[prev_state_idx][action] += alpha * (reward + self.gamma * np.max(self.Q[new_state_idx]) - self.Q[prev_state_idx][action])\n",
        "\n",
        "  def init_bins(self):\n",
        "    state_min = [-1.01975346, -0.44636688, -2.29403067, -2.22342443, -4.9213028, -8.83636475]\n",
        "    state_max = [1.0239284, 1.8099494, 2.47327113, 0.62224495, 4.42566919, 8.98535538]\n",
        "    for i in range(6):\n",
        "      step = (state_max[i] - state_min[i]) / self.num_bins\n",
        "      left_bounds = [(state_min[i] + step * j) for j in range(self.num_bins)]\n",
        "      right_bounds = [(state_min[i] + step * (j+1)) for j in range(self.num_bins)]\n",
        "      # chance of going outside this range is small but better be safe, so:\n",
        "      left_bounds[0] = -float(\"inf\")\n",
        "      right_bounds[-1] = float(\"inf\")\n",
        "      self.bins2D.append(pd.IntervalIndex.from_arrays(left_bounds, right_bounds, closed=\"neither\"))\n",
        "    print(self.bins2D)\n",
        "\n",
        "  def get_state_representation(self, state):\n",
        "    representation = [self.bins2D[i].get_loc(state[i]) for i in range(6)]\n",
        "    representation.append(int(state[6]))\n",
        "    representation.append(int(state[7]))\n",
        "    return representation\n",
        "\n",
        "  def get_state_index(self, state):\n",
        "    num = 0\n",
        "    for i in range(5):\n",
        "      num = (num + bins2D[i].get_loc(state[i]))*self.num_bins\n",
        "    num = ((num + bins2D[5].get_loc(state[5]))*2 + int(state[-2]))*2 + int(state[-1])\n",
        "    return num\n",
        "\n",
        "  def get_Qs(self, state):\n",
        "    return self.Q[self.get_state_index(state)]\n",
        "\n",
        "  def measure_learning(self):\n",
        "    return np.count_nonzero(self.Q) / (self.dim_state * 4)"
      ],
      "metadata": {
        "id": "q46-1IhK7gg1"
      },
      "execution_count": null,
      "outputs": []
    },
    {
      "cell_type": "code",
      "source": [
        "n_episodes = 1\n",
        "\n",
        "env = gym.make('LunarLander-v2')\n",
        "agent = Agent(env.action_space.n)\n",
        "\n",
        "cum_rewards = []\n",
        "for episode in range(n_episodes):\n",
        "    state = env.reset()\n",
        "    t = 0\n",
        "    cum_reward = 0\n",
        "    while True:\n",
        "      #env.render()\n",
        "      prev_state = state\n",
        "      prev_state_idx = agent.get_state_index(prev_state)\n",
        "      action = agent.get_action(state)\n",
        "      state, reward, done, info = env.step(action)\n",
        "      cum_reward += reward\n",
        "      #print(f\"Old Q({prev_state_idx},_) = {agent.get_Qs(prev_state)}\")\n",
        "      alpha = (n_episodes - episode) / n_episodes\n",
        "      agent.q_update(prev_state, action, reward, state, alpha)\n",
        "      state_idx = agent.get_state_index(state)\n",
        "      #print(f\"State {prev_state_idx} \\n+ Action {action} \\n-> State {state_idx}\\nReward = {reward}\")\n",
        "      #print(f\"New Q({prev_state_idx},_) = {agent.get_Qs(prev_state)}\\n\\n\")\n",
        "      if done:\n",
        "          print(f\"Episode {episode+1}. {t+1} timesteps, cum_reward = {cum_reward} \\n\")\n",
        "          break\n",
        "      t += 1\n",
        "    cum_rewards.append(cum_reward)\n",
        "\n",
        "print(agent.measure_learning())\n",
        "env.close()"
      ],
      "metadata": {
        "id": "LCacZZMuti0m",
        "colab": {
          "base_uri": "https://localhost:8080/"
        },
        "outputId": "64e16ab0-6ca6-45e5-a3b4-4e395d3e2898"
      },
      "execution_count": null,
      "outputs": [
        {
          "output_type": "stream",
          "name": "stdout",
          "text": [
            "[IntervalIndex([(-inf, -0.815385274), (-0.815385274, -0.611017088), (-0.611017088, -0.4066489019999999), (-0.4066489019999999, -0.20228071599999997), (-0.20228071599999997, 0.00208746999999998), (0.00208746999999998, 0.20645565600000015), (0.20645565600000015, 0.4108238420000001), (0.4108238420000001, 0.6151920280000001), (0.6151920280000001, 0.819560214), (0.819560214, inf)],\n",
            "              closed='neither',\n",
            "              dtype='interval[float64]'), IntervalIndex([(-inf, -0.22073525200000002), (-0.22073525200000002, 0.00489637599999998), (0.00489637599999998, 0.23052800399999995), (0.23052800399999995, 0.456159632), (0.456159632, 0.68179126), (0.68179126, 0.9074228879999999), (0.9074228879999999, 1.133054516), (1.133054516, 1.358686144), (1.358686144, 1.5843177720000001), (1.5843177720000001, inf)],\n",
            "              closed='neither',\n",
            "              dtype='interval[float64]'), IntervalIndex([(-inf, -1.81730049), (-1.81730049, -1.3405703100000002), (-1.3405703100000002, -0.8638401300000003), (-0.8638401300000003, -0.38710995000000015), (-0.38710995000000015, 0.08962022999999997), (0.08962022999999997, 0.5663504099999996), (0.5663504099999996, 1.0430805899999998), (1.0430805899999998, 1.5198107699999999), (1.5198107699999999, 1.9965409499999995), (1.9965409499999995, inf)],\n",
            "              closed='neither',\n",
            "              dtype='interval[float64]'), IntervalIndex([(-inf, -1.9388574920000001), (-1.9388574920000001, -1.6542905540000001), (-1.6542905540000001, -1.369723616), (-1.369723616, -1.085156678), (-1.085156678, -0.8005897399999999), (-0.8005897399999999, -0.5160228019999997), (-0.5160228019999997, -0.23145586399999973), (-0.23145586399999973, 0.05311107400000026), (0.05311107400000026, 0.33767801200000047), (0.33767801200000047, inf)],\n",
            "              closed='neither',\n",
            "              dtype='interval[float64]'), IntervalIndex([(-inf, -3.9866056010000004), (-3.9866056010000004, -3.0519084020000005), (-3.0519084020000005, -2.117211203), (-2.117211203, -1.1825140040000002), (-1.1825140040000002, -0.24781680500000025), (-0.24781680500000025, 0.6868803940000001), (0.6868803940000001, 1.6215775929999996), (1.6215775929999996, 2.556274792), (2.556274792, 3.4909719909999994), (3.4909719909999994, inf)],\n",
            "              closed='neither',\n",
            "              dtype='interval[float64]'), IntervalIndex([(-inf, -7.054192736999999), (-7.054192736999999, -5.272020724), (-5.272020724, -3.4898487110000005), (-3.4898487110000005, -1.7076766980000002), (-1.7076766980000002, 0.07449531500000006), (0.07449531500000006, 1.8566673279999986), (1.8566673279999986, 3.638839340999999), (3.638839340999999, 5.421011353999999), (5.421011353999999, 7.203183366999999), (7.203183366999999, inf)],\n",
            "              closed='neither',\n",
            "              dtype='interval[float64]')]\n",
            "Episode 1. 198 timesteps, cum_reward = -78.40407249893148 \n",
            "\n",
            "4.3125e-06\n"
          ]
        }
      ]
    },
    {
      "cell_type": "code",
      "source": [
        "import matplotlib.pyplot as plt\n",
        "\n",
        "plt.plot(cum_rewards, color=\"red\")\n",
        "\n",
        "plt.show()"
      ],
      "metadata": {
        "colab": {
          "base_uri": "https://localhost:8080/",
          "height": 265
        },
        "id": "eOPZhpyHHJDt",
        "outputId": "3846c5ff-42ad-483e-cbd0-a025a719e263"
      },
      "execution_count": null,
      "outputs": [
        {
          "output_type": "display_data",
          "data": {
            "image/png": "[encoded data removed]",
            "text/plain": [
              "<Figure size 432x288 with 1 Axes>"
            ]
          },
          "metadata": {
            "needs_background": "light"
          }
        }
      ]
    },
    {
      "cell_type": "code",
      "source": [
        ""
      ],
      "metadata": {
        "id": "w0QCMk5ylbXx"
      },
      "execution_count": null,
      "outputs": []
    }
  ]
}